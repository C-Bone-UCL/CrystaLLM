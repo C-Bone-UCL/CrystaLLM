{
 "cells": [
  {
   "cell_type": "code",
   "execution_count": 5,
   "metadata": {},
   "outputs": [
    {
     "name": "stderr",
     "output_type": "stream",
     "text": [
      "/home/uccacbo/miniconda3/envs/crystallm_venv/lib/python3.10/site-packages/tqdm/auto.py:21: TqdmWarning: IProgress not found. Please update jupyter and ipywidgets. See https://ipywidgets.readthedocs.io/en/stable/user_install.html\n",
      "  from .autonotebook import tqdm as notebook_tqdm\n"
     ]
    }
   ],
   "source": [
    "import torch\n",
    "import torch.nn as nn\n",
    "import numpy as np\n",
    "import pickle\n",
    "from transformers import GPT2LMHeadModel, GPT2Tokenizer\n",
    "from crystallm import (\n",
    "    GPT,\n",
    "    GPTConfig,\n",
    "    CIFTokenizer\n",
    ")"
   ]
  },
  {
   "cell_type": "code",
   "execution_count": 20,
   "metadata": {},
   "outputs": [
    {
     "name": "stdout",
     "output_type": "stream",
     "text": [
      "Number of tokens in the tokenizer: 372\n"
     ]
    }
   ],
   "source": [
    "from crystallm import CIFTokenizer  # Assuming CIFTokenizer is defined in crystallm\n",
    "\n",
    "# Load the tokenizer (assuming a similar API)\n",
    "tokenizer = CIFTokenizer()\n",
    "\n",
    "# Assuming the tokens are stored in a dictionary-like attribute\n",
    "if hasattr(tokenizer, 'token_to_id'):\n",
    "    num_tokens = len(tokenizer.token_to_id)\n",
    "    print(f\"Number of tokens in the tokenizer: {num_tokens}\")\n",
    "\n",
    "\n"
   ]
  },
  {
   "cell_type": "code",
   "execution_count": 6,
   "metadata": {},
   "outputs": [
    {
     "data": {
      "text/plain": [
       "'/home/uccacbo/CrystaLLM'"
      ]
     },
     "execution_count": 6,
     "metadata": {},
     "output_type": "execute_result"
    }
   ],
   "source": [
    "# check current directory\n",
    "import os\n",
    "os.getcwd()\n",
    "\n",
    "# change directory to where the data is\n",
    "os.chdir('/home/uccacbo/CrystaLLM')\n",
    "os.getcwd()"
   ]
  },
  {
   "cell_type": "code",
   "execution_count": 7,
   "metadata": {},
   "outputs": [
    {
     "name": "stdout",
     "output_type": "stream",
     "text": [
      "Using configuration:\n",
      "out_dir: small_model_untouched\n",
      "ckpt_out_dir: crystallm_v1_small/BG_fh_2\n",
      "eval_interval: 250\n",
      "log_interval: 50\n",
      "eval_iters_train: 200\n",
      "eval_iters_val: 200\n",
      "eval_only: false\n",
      "always_save_checkpoint: true\n",
      "init_from: scratch\n",
      "dataset: BG_cifs_more_tokens\n",
      "gradient_accumulation_steps: 40\n",
      "batch_size: 4\n",
      "block_size: 1024\n",
      "n_layer: 6\n",
      "n_head: 6\n",
      "n_embd: 384\n",
      "dropout: 0.2\n",
      "bias: false\n",
      "learning_rate: 5.0e-05\n",
      "max_iters: 550\n",
      "weight_decay: 0.1\n",
      "beta1: 0.9\n",
      "beta2: 0.99\n",
      "grad_clip: 1.0\n",
      "decay_lr: true\n",
      "warmup_iters: 10\n",
      "lr_decay_iters: 550\n",
      "min_lr: 0.0005\n",
      "device: cuda\n",
      "dtype: bfloat16\n",
      "compile: true\n",
      "underrep_p: 0.0\n",
      "validate: false\n",
      "finetune_head: true\n",
      "\n",
      "Creating small_model_untouched...\n",
      "Found vocab_size = 372 (inside BG_cifs_more_tokens/meta.pkl)\n",
      "Initializing a new model from scratch...\n",
      "number of parameters: 10.76M\n",
      "Finetuning head only: Freezing transformer layers\n",
      "Compiling the model (takes a ~minute)...\n",
      "[2024-10-18 11:25:28,818] torch._inductor.utils: [WARNING] using triton random, expect difference from eager\n",
      "[2024-10-18 11:25:29,103] torch._inductor.utils: [WARNING] using triton random, expect difference from eager\n",
      "[2024-10-18 11:25:29,525] torch._inductor.utils: [WARNING] using triton random, expect difference from eager\n",
      "[2024-10-18 11:25:29,761] torch._inductor.utils: [WARNING] using triton random, expect difference from eager\n",
      "[2024-10-18 11:25:30,249] torch._inductor.utils: [WARNING] using triton random, expect difference from eager\n",
      "[2024-10-18 11:25:30,471] torch._inductor.utils: [WARNING] using triton random, expect difference from eager\n",
      "[2024-10-18 11:25:30,768] torch._inductor.utils: [WARNING] using triton random, expect difference from eager\n",
      "[2024-10-18 11:25:31,014] torch._inductor.utils: [WARNING] using triton random, expect difference from eager\n",
      "[2024-10-18 11:25:31,316] torch._inductor.utils: [WARNING] using triton random, expect difference from eager\n",
      "[2024-10-18 11:25:31,559] torch._inductor.utils: [WARNING] using triton random, expect difference from eager\n",
      "[2024-10-18 11:25:31,835] torch._inductor.utils: [WARNING] using triton random, expect difference from eager\n",
      "[2024-10-18 11:25:32,072] torch._inductor.utils: [WARNING] using triton random, expect difference from eager\n",
      "iter 0: loss 5.9577, time 9353.89ms, mfu -100.00%\n",
      "iter 50: loss 5.3057, time 1037.54ms, mfu 4.70%\n",
      "iter 100: loss 4.2434, time 1048.88ms, mfu 4.70%\n",
      "iter 150: loss 3.1247, time 1047.49ms, mfu 4.69%\n",
      "iter 200: loss 2.6995, time 1043.76ms, mfu 4.69%\n",
      "saving checkpoint to crystallm_v1_small/BG_fh_2/ckpt.pt...\n",
      "iter 250: loss 2.3692, time 1123.99ms, mfu 4.66%\n",
      "iter 300: loss 2.2752, time 1044.16ms, mfu 4.66%\n",
      "iter 350: loss 2.2576, time 1041.99ms, mfu 4.66%\n",
      "iter 400: loss 2.2046, time 1046.25ms, mfu 4.66%\n",
      "iter 450: loss 2.1958, time 1069.21ms, mfu 4.65%\n",
      "saving checkpoint to crystallm_v1_small/BG_fh_2/ckpt.pt...\n",
      "iter 500: loss 2.1776, time 3799.82ms, mfu 4.31%\n",
      "iter 550: loss 2.2167, time 1056.56ms, mfu 4.34%\n"
     ]
    }
   ],
   "source": [
    "!python bin/train.py --config=config/finetune_head_BG.yaml"
   ]
  },
  {
   "cell_type": "code",
   "execution_count": 50,
   "metadata": {},
   "outputs": [
    {
     "name": "stdout",
     "output_type": "stream",
     "text": [
      "writing prompt to prompts/na2cl2.txt ...\n"
     ]
    }
   ],
   "source": [
    "!python bin/make_prompt_file.py Na2Cl2 prompts/na2cl2.txt --spacegroup P4/nmm"
   ]
  },
  {
   "cell_type": "code",
   "execution_count": 5,
   "metadata": {},
   "outputs": [
    {
     "name": "stdout",
     "output_type": "stream",
     "text": [
      "Using configuration:\n",
      "out_dir: crystallm_v1_small/BG_fh_2\n",
      "start: FILE:prompts/Fe4H4O8.txt\n",
      "num_samples: 1\n",
      "max_new_tokens: 1000\n",
      "temperature: 0.8\n",
      "top_k: 10\n",
      "seed: 1337\n",
      "device: cuda\n",
      "dtype: bfloat16\n",
      "compile: false\n",
      "target: console\n",
      "generated_dir: test_generated_cifs_BG\n",
      "\n",
      "number of parameters: 10.76M\n",
      "data_Fe4H4O8\n",
      "loop_\n",
      "_atom_type_symbol\n",
      "_atom_type_electronegativity\n",
      "_atom_type_radius\n",
      "_atom_type_ionic_radius\n",
      "Fe 1.8300 1.4000 0.8525\n",
      "H 2.2000 0.2500 0.0000\n",
      "O 3.4400 0.6000 1.2600\n",
      "_symmetry_space_group_name_H-M Pnma\n",
      "_cell_length_a 14.2326\n",
      "_cell_length_b 2.9813\n",
      "_cell_length_c 5.2030\n",
      "_cell_angle_alpha 90.0000\n",
      "_cell_angle_beta 90.0000\n",
      "_cell_angle_gamma 90.0000\n",
      "_symmetry_Int_Tables_number 62\n",
      "_chemical_formula_structural FeHO2\n",
      "_chemical_formula_sum 'Fe4 H4 O8'\n",
      "_cell_volume 220.7694\n",
      "_cell_formula_units_Z 4\n",
      "loop_\n",
      "_symmetry_equiv_pos_site_id\n",
      "_symmetry_equiv_pos_as_xyz\n",
      "1 'x, y, z'\n",
      "loop_\n",
      "_atom_site_type_symbol\n",
      "_atom_site_label\n",
      "_atom_site_symmetry_multiplicity\n",
      "_atom_site_fract_x\n",
      "_atom_site_fract_y\n",
      "_atom_site_fract_z\n",
      "_atom_site_occupancy\n",
      "Fe Fe0 4 0.1848 0.2500 0.0023 1.0\n",
      "H H1 4 0.0396 0.7500 0.9414 1.0\n",
      "O O2 4 0.0877 0.7500 0.0757 1.0\n",
      "O O3 4 0.2392 0.7500 0.8026 1.0\n",
      "_atom_site_symmetry_multiplicity\n",
      "_cell_volume 0.000 000 0.0 0\n",
      "_atom_site_type_symbol\n",
      "loop_\n",
      "_atom_site_fract_x\n",
      "loop_\n",
      "_atom_site_fract_y\n",
      "_atom_site_fract_y\n",
      "O 0.00.0.0.2626 15000 0 0 0.0.00.80\n",
      "_cell_angle_alpha 1.50.00 1.00 O 1 00.4 93 0.00.0 0\n",
      "loop_\n",
      "O 0.50.0.0 00 00.200.00 0.2 1.00.0.2.0.2 0.2 0.00.00.000.0 '\n",
      "_symmetry_space_group_name_H-M 0000\n",
      "_cell_angle_gamma 0 1.64 1.0.600 0.0\n",
      "loop_\n",
      "loop_\n",
      "_chemical_formula_structural 1.0148 0.0.620\n",
      "O 0.0 00\n",
      "_cell_angle_gamma 444 1150 1.00\n",
      "loop_\n",
      "_cell_angle_beta 17 0.00.0.53 00\n",
      "_symmetry_Int_Tables_number 1 00.81.0\n",
      "_cell_length_b 0 008000 0.0 0\n",
      "_chemical_formula_structural 0.0 1.00.0 0.90.500 0.8 1.60.71.0.0 00 1.50.0.100\n",
      "_cell_length_b 00.0.60.3 0.8 0.0.0\n",
      "_symmetry_Int_Tables_number 1.1.00.00.0.6000.821.000.0\n",
      "loop_\n",
      "_symmetry_Int_Tables_number 00.00 160 0.1.00.00.009 0 1.1 00 0.900.24 00 0.0.650\n",
      "_symmetry_Int_Tables_number 00 1.0 00.00\n",
      "Bandgap_eV: 0.60.3.00\n",
      "_chemical_formula_structural 1.0.3.90.20 0\n",
      "loop_\n",
      "_atom_type_radius\n",
      "_cell_length_a 1.0.0000 0\n",
      "loop_\n",
      "_cell_length_a 0.000.0.0000 1.0\n",
      "_cell_length_b 0.2 '\n",
      "O 0 00\n",
      "O 1.0\n",
      "O 00 200.950660.21 0 0\n",
      "O4 0.65000\n",
      "_symmetry_space_group_name_H-M 1.00 00.0.2.4 00.330 000.50.0 1.0.00.00 000000\n",
      "O 10.0.1.0\n",
      "_symmetry_Int_Tables_number 90\n",
      "_chemical_formula_structural 0.0.1.2 00\n",
      "loop_\n",
      "O 00.00\n",
      "_symmetry_Int_Tables_number 0.00.0.000 0\n",
      "_cell_length_c 0.0\n",
      "_symmetry_space_group_name_H-M 00\n",
      "loop_\n",
      "loop_\n",
      "_cell_angle_gamma 0.00\n",
      "_cell_length_b 00.0.50061.82.1 0.6\n",
      "_cell_length_a 0 1.0 1.1.0.00\n",
      "loop_\n",
      "_symmetry_space_group_name_H-M 004\n",
      "O 00.2 0.0.7 1900\n",
      "_symmetry_Int_Tables_number 0\n",
      "O 0 0.2 000 000.1.763500.0\n",
      "O200.0 1.8 0 000.00.0 00.0490.24 1.0.00.0\n",
      "_symmetry_space_group_name_H-M 00 0\n",
      "Bandgap_eV: 0\n",
      "_cell_angle_gamma 0.00\n",
      "_symmetry_space_group_name_H-M 0\n",
      "_chemical_formula_structural 00.0\n",
      "_symmetry_Int_Tables_number 1.0\n",
      "_cell_angle_beta 9\n",
      "_symmetry_space_group_name_H-M 0 0.1.8\n",
      "_symmetry_space_group_name_H-M 0\n",
      "_symmetry_space_group_name_H-M 1.080.0.00\n",
      "_cell_length_b 1.0\n",
      "_cell_length_c 0.0000.4\n",
      "_cell_length_c 1.400.4\n",
      "_cell_length_b 0\n",
      "_cell_length_b 200.0\n",
      "_symmetry_space_group_name_H-M 0000\n",
      "loop_\n",
      "_cell_length_b 0.00.2\n",
      "_cell_length_b 000\n",
      "_cell_angle_gamma 0.0\n",
      "O 0.00.690.00.20\n",
      "---------------\n"
     ]
    }
   ],
   "source": [
    "!python bin/sample.py --config prompt_config/BG_gen.yaml"
   ]
  },
  {
   "cell_type": "code",
   "execution_count": 45,
   "metadata": {},
   "outputs": [
    {
     "name": "stdout",
     "output_type": "stream",
     "text": [
      "error post-processing CIF file 'sample_1.cif': could not extract space group from:\n",
      "data_Co4B2Os2\n",
      " loop_ Bandgap_eV: _atom_type_symbol _atom_type_electronegativity _atom_type_radius Co,1z8800,1z3500,0z7683 B,2z0400,0z4500,0z4100 Os,2z2000,1z3000,0z6730 _symmetry_space_group_name_H-M,I4/mcm _cell_length_a,3z6036 _cell_length_b,3z6036 _cell_length_c,6z4358 _cell_angle_alpha,90z0000 _cell_angle_beta,90z0000 _cell_angle_gamma,90z0000 _symmetry_Int_Tables_number,119 _chemical_formula_structural,Co2BOs _chemical_formula_sum,/Co4,B2,Os2/ _cell_volume,83z4773 _cell_formula_units_Z,2 loop_ _symmetry_equiv_pos_site_id _symmetry_equiv_pos_as_xyz 1,/_atom_type_oxidation_number',x',y/ loop_ _atom_site_type_symbol _atom_site_label _atom_site_symmetry_multiplicity _atom_site_fract_x _atom_site_fract_y _atom_site_fract_z _atom_site_occupancy Co,Co0,2,0z0000,0z0000,0z0000,1 Co,Co1,2,0z0000,0z5000,0z7500,1 B,B2,2,0z0000,0z5000,0z2500,1 Os,Os3,2,0z0000,0z0000,0z5000,1  data_Ca4Y4Mg4Al4 loop_ Bandgap_eV: _atom_type_symbol _atom_type_electronegativity _atom_type_radius Ca,1z0000,1z8000,1z1400 Y,1z2200,1z8000,1z0400 Mg,1z3100,1z5000,0z8600 Al,1z6100,1z2500,0z6750 _symmetry_space_group_name_H-M,I4mm _cell_length_a,7z4630 _cell_length_b,7z4630 _cell_length_c,7z4630 _cell_angle_alpha,90z0000 _cell_angle_beta,90z0000 _cell_angle_gamma,90z0000 _symmetry_Int_Tables_number,216 _chemical_formula_structural,CaYMgAl _chemical_formula_sum,/Ca4,Y4,Mg4,Al4/ _cell_volume,415z6619 _cell_formula_units_Z,4 loop_ _symmetry_equiv_pos_site_id _symmetry_equiv_pos_as_xyz 1,/_atom_type_oxidation_number',x',y/ loop_ _atom_site_type_symbol _atom_site_label _atom_site_symmetry_multiplicity _atom_site_fract_x _atom_site_fract_y _atom_site_fract_z _atom_site_occupancy Ca,Ca0,4,0z2500,0z2500,0z7500,1 Y,Y1,4,0z0000,0z0000,0z0000,1 Mg,Mg2,4,0z0000,0z0000,0z5000,1 Al,Al3,4,0z2500,0z2500,0z2500,1  data_Na4Sr2Ta2 loop_ Bandgap_eV: _atom_type_symbol _atom_type_electronegativity _atom_type_radius Na,0z9300,1z8000,1z1600 Sr,0z9500,2z0000,1z3200 Ta,1z5000,1z4500,0z8200 _symmetry_space_group_name_H-M,P6_3/mmc _cell_length_a,4z8011 _cell_length_b,4z8011 _cell_length_c,11z0781 _cell_angle_alpha,90z0000 _cell_angle_beta,90z0000 _cell_angle_gamma,90z0000 _symmetry_Int_Tables_number,139 _chemical_formula_structural,Na2SrTa _chemical_formula_sum,/Na4,Sr2,Ta2/ _cell_volume,255z1175 _cell_formula_units_Z,2 loop_ _symmetry_equiv_pos_site_id _symmetry_equiv_pos_as_xyz 1,/_atom_type_oxidation_number',x',y/ loop_ _atom_site_type_symbol _atom_site_label _atom_site_symmetry_multiplicity _atom_site_fract_x _atom_site_fract_y _atom_site_fract_z _atom_site_occupancy Na,Na0,4,0z0000,0z5000,0z2500,1 Sr,Sr1,2,0z0000,0z0000,0z5000,1 Ta,Ta2,2,0z0000,0z0000,0z0000,1  data_Ba1Sr1Y2 loop_ Bandgap_eV: _atom_type_symbol _atom_type_electronegativity _atom_type_radius Ba,0z8900,2z1500,1z4900 Sr,0z9500,2z0000,1z3200 Y,1z2200,1z8000,1z0400 _symmetry_space_group_name_H-M,P-3 _cell_length_a,3z9668 _cell_length_b,3z9668 _cell_length_c,11z2486 _cell_angle_alpha,90z0000 _cell_angle_beta,90z0000 _cell_angle_gamma,90z0000 _symmetry_Int_Tables_number,99 _chemical_formula_structural,BaSrY2 _chemical_formula_sum,/Ba1,Sr1,Y2/ _cell_volume,176z6431 _cell_formula_units_Z,1 loop_ _symmetry_equiv_pos_site_id _symmetry_equiv_pos_as_xyz 1,/_atom_type_oxidation_number',x',y/ loop_ _atom_site_type_symbol _atom_site_label _atom_site_symmetry_multiplicity _atom_site_fract_x _atom_site_fract_y _atom_site_fract_z _atom_site_occupancy Ba,Ba0,1,0z0000,0z0000,0z4713,1 Sr,Sr1,1,0z5000,0z5000,0z7803,1 Y,Y2,1,0z0000,0z0000,0z0276,1 Y,Y3,1,0z5000,0z5000,0z2207,1  data_Mg4V2Tc2 loop_ Bandgap_eV: _atom_type_symbol _atom_type_electronegativity _atom_type_radius Mg,1z3100,1z5000,0z8600 V,1z6300,1z3500,0z7775 Tc,1z9000,1z3500,0z7417 _symmetry_space_group_name_H-M,P4_2/n _cell_length_a,9z0817 _cell_length_b,2z6948 _cell_length_c,5z3893 _cell_angle_alpha,90z0000 _cell_angle_beta,92z4615 _cell_angle_gamma,90z0000 _symmetry_Int_Tables_number,8 _chemical_formula_structural,Mg2VTc _chemical_formula_sum,/Mg4,V2,Tc2/ _cell_volume,131z7700 _cell_formula_units_Z,2 loop_ _symmetry_equiv_pos_site_id _symmetry_equiv_pos_as_xyz 1,/_atom_type_oxidation_number',x',y/ loop_ _atom_site_type_symbol _atom_site_label _atom_site_symmetry_multiplicity _atom_site_fract_x _atom_site_fract_y _atom_site_fract_z _atom_site_occupancy Mg,Mg0,2,0z0005,0z0000,0z9990,1 Mg,Mg1,2,0z2481,0z0000,0z7430,1 V,V2,2,0z2465,0z5000,0z2776,1 Tc,Tc3,2,0z0049,0z5000,0z4804,1  data_La2Mn4Cd2 loop_ Bandgap_eV: _atom_type_symbol _atom_type_electronegativity _atom_type_radius La,1z1000,1z9500,1z1720 Mn,1z5500,1z4000,0z6483 Cd,1z6900,1z5500,1z0900 _symmetry_space_group_name_H-M,P4/mmm _cell_length_a,3z3350 _cell_length_b,4z5894 _cell_length_c,10z5600 _cell_angle_alpha,90z0000 _cell_angle_beta,90z0000 _cell_angle_gamma,90z0000 _symmetry_Int_Tables_number,44 _chemical_formula_structural,LaMn2Cd _chemical_formula_sum,/La2,Mn4,Cd2/ _cell_volume,161z4126 _cell_formula_units_Z,2 loop_ _symmetry_equiv_pos_site_id _symmetry_equiv_pos_as_xyz 1,/_atom_type_oxidation_number',x',y/ loop_ _atom_site_type_symbol _atom_site_label _atom_site_symmetry_multiplicity _atom_site_fract_x _atom_site_fract_y _atom_site_fract_z _atom_site_occupancy La,La0,2,0z0000,0z0000,0z7325,1 Mn,Mn1,2,0z0000,0z0000,0z3191,1 Mn,Mn2,2,0z0000,0z5000,0z9336,1 Cd,Cd3,2,0z0000,0z5000,0z5148,1  data_Ca2V1Ru1 loop_ Bandgap_eV: _atom_type_symbol _atom_type_electronegativity _atom_type_radius Ca,1z0000,1z8000,1z1400 V,1z6300,1z3500,0z7775 Ru,2z2000,1z3000,0z6610 _symmetry_space_group_name_H-M,Fmmm _cell_length_a,3z0762 _cell_length_b,4z8127 _cell_length_c,5z6015 _cell_angle_alpha,90z0000 _cell_angle_beta,97z9498 _cell_angle_gamma,90z0000 _symmetry_Int_Tables_number,10 _chemical_formula_structural,Ca2VRu _chemical_formula_sum,/Ca2,V1,Ru1/ _cell_volume,82z1139 _cell_formula_units_Z,1 loop_ _symmetry_equiv_pos_site_id _symmetry_equiv_pos_as_xyz 1,/_atom_type_oxidation_number',x',y/ loop_ _atom_site_type_symbol _atom_site_label _atom_site_symmetry_multiplicity _atom_site_fract_x _atom_site_fract_y _atom_site_fract_z _atom_site_occupancy Ca,Ca0,2,0z0512,0z0000,0z7584,1 V,V1,1,0z5000,0z5000,0z5000,1 Ru,Ru2,1,0z5000,0z5000,0z0000,1  data_Hf4Ta8As4 loop_ Bandgap_eV: _atom_type_symbol _atom_type_electronegativity _atom_type_radius Hf,1z3000,1z5500,0z8500 Ta,1z5000,1z4500,0z8200 As,2z1800,1z1500,0z6600 _symmetry_space_group_name_H-M,I4mm _cell_length_a,6z6243 _cell_length_b,6z6243 _cell_length_c,6z6243 _cell_angle_alpha,90z0000 _cell_angle_beta,90z0000 _cell_angle_gamma,90z0000 _symmetry_Int_Tables_number,216 _chemical_formula_structural,HfTa2As _chemical_formula_sum,/Hf4,Ta8,As4/ _cell_volume,290z6766 _cell_formula_units_Z,4 loop_ _symmetry_equiv_pos_site_id _symmetry_equiv_pos_as_xyz 1,/_atom_type_oxidation_number',x',y/ loop_ _atom_site_type_symbol _atom_site_label _atom_site_symmetry_multiplicity _atom_site_fract_x _atom_site_fract_y _atom_site_fract_z _atom_site_occupancy Hf,Hf0,4,0z2500,0z2500,0z7500,1 Ta,Ta1,4,0z0000,0z0000,0z0000,1 Ta,Ta2,4,0z2500,0z2500,0z2500,1 As,As3,4,0z0000,0z0000,0z5000,1  data_Li8Mn2Ir2O12 loop_ Bandgap_eV: _atom_type_symbol _atom_type_electronegativity _atom_type_radius Li,0z9800,1z4500,0z9000 Mn,1z5500,1z4000,0z6483 Ir,2z2000,1z3500,0z7650 O,3z4400,0z6000,1z2600 _symmetry_space_group_name_H-M,P6_3/mcm _cell_length_a,5z0354 _cell_length_b,8z7606 _cell_length_c,5z0404 _cell_angle_alpha,90z0000 _cell_angle_beta,109z7540 _cell_angle_gamma,90z0000 _symmetry_Int_Tables_number,5 _chemical_formula_structural,Li4MnIrO6 _chemical_formula_sum,/Li8,Mn2,Ir2,O12/ _cell_volume,208z4915 _cell_formula_units_Z,2 loop_ _symmetry_equiv_pos_site_id _symmetry_equiv_pos_as_xyz 1,/_atom_type_oxidation_number',x',y/ loop_ _atom_site_type_symbol _atom_site_label _atom_site_symmetry_multiplicity _atom_site_fract_x _atom_site_fract_y _atom_site_fract_z _atom_site_occupancy Li,Li0,2,0z0000,0z0002,0z5000,1 Li,Li1,2,\n",
      "processed: sample_1.cif\n",
      "processed: sample_5.cif\n"
     ]
    }
   ],
   "source": [
    "!python bin/postprocess.py test_generated_cifs_BG my_processed_cifs_BG"
   ]
  },
  {
   "cell_type": "code",
   "execution_count": null,
   "metadata": {},
   "outputs": [],
   "source": []
  },
  {
   "cell_type": "markdown",
   "metadata": {},
   "source": [
    "### Next steps\n",
    "1. could be that there is no end to the genertation because somehow in the sample.py file the condition to terminate is not found\n",
    "    \n",
    "    a. even the max tokens isnt used\n",
    "\n",
    "2. Maybe when adding the dimnension I didnt add it correctly so all the dimensions got mumble jumbled so the weights and parameter weights arent assigned to the right thing yet (LoRA could fix this? - but for now could try the token resize thing)\n",
    "\n",
    "3. Maybe need to retrtain all params from scratch\n",
    "\n",
    "4. "
   ]
  },
  {
   "cell_type": "markdown",
   "metadata": {},
   "source": []
  },
  {
   "cell_type": "markdown",
   "metadata": {},
   "source": []
  }
 ],
 "metadata": {
  "kernelspec": {
   "display_name": "crystallm_venv",
   "language": "python",
   "name": "python3"
  },
  "language_info": {
   "codemirror_mode": {
    "name": "ipython",
    "version": 3
   },
   "file_extension": ".py",
   "mimetype": "text/x-python",
   "name": "python",
   "nbconvert_exporter": "python",
   "pygments_lexer": "ipython3",
   "version": "3.10.15"
  }
 },
 "nbformat": 4,
 "nbformat_minor": 2
}
