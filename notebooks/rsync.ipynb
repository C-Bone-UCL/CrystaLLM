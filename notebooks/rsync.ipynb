{
 "cells": [
  {
   "cell_type": "markdown",
   "metadata": {},
   "source": [
    "### WSL 2 HPC"
   ]
  },
  {
   "cell_type": "code",
   "execution_count": 5,
   "metadata": {},
   "outputs": [
    {
     "name": "stdout",
     "output_type": "stream",
     "text": [
      "sending incremental file list\n",
      "notebooks/rsync.ipynb\n",
      "         16,151 100%    3.20MB/s    0:00:00 (xfr#1, to-chk=40/334)\n",
      "\n",
      "sent 14,183 bytes  received 208 bytes  28,782.00 bytes/sec\n",
      "total size is 11,112,934,883  speedup is 772,214.22\n"
     ]
    }
   ],
   "source": [
    "%%bash\n",
    "\n",
    "rsync -avzu --progress \\\n",
    "    --exclude 'BG_CIFs/' \\\n",
    "    --exclude 'Miniconda3.sh' \\\n",
    "    --exclude 'small_model_untouched/' \\\n",
    "    --exclude 'large_model_untouched/' \\\n",
    "    --exclude 'BG_cifs_process_steps/' \\\n",
    "    --exclude 'cuda-repo-wsl-ubuntu-11-8-local_11.8.0-1_amd64.deb' \\\n",
    "    --exclude 'crystallm_container.sif' \\\n",
    "    --exclude 'wandb/' \\\n",
    "    -e \"ssh -i ~/.ssh/exported-keyfile-from-putty-np\" \\\n",
    "    /home/uccacbo/CrystaLLM/ cyprien@nico.chem.ucl.ac.uk:/home/cyprien/CrystaLLM/"
   ]
  },
  {
   "cell_type": "markdown",
   "metadata": {},
   "source": [
    "### HPC 2 WSL"
   ]
  },
  {
   "cell_type": "code",
   "execution_count": 2,
   "metadata": {},
   "outputs": [
    {
     "name": "stdout",
     "output_type": "stream",
     "text": [
      "receiving incremental file list\n",
      "config/finetune_all_BG.yaml\n",
      "          1,193 100%    1.14MB/s    0:00:00 (xfr#1, to-chk=142/390)\n",
      "config/finetune_head_BG.yaml\n",
      "          1,191 100%    1.14MB/s    0:00:00 (xfr#2, to-chk=141/390)\n",
      "crystallm_v1_small/BG_all/ckpt.pt\n",
      "    310,728,762 100%    7.63MB/s    0:00:38 (xfr#3, to-chk=112/390)\n",
      "finetuned_models/BG_head/ckpt.pt\n",
      "    818,442,040 100%  372.92MB/s    0:00:02 (xfr#4, to-chk=105/390)\n",
      "finetuned_models/finetuned_models/\n",
      "wandb/\n",
      "wandb/debug-internal.log -> run-20241021_162033-90jzejcq/logs/debug-internal.log\n",
      "wandb/debug.log -> run-20241021_162033-90jzejcq/logs/debug.log\n",
      "wandb/latest-run -> run-20241021_162033-90jzejcq\n",
      "wandb/run-20241021_143456-gpkvm59k/run-gpkvm59k.wandb\n",
      "        801,808 100%    2.93MB/s    0:00:00 (xfr#5, to-chk=47/390)\n",
      "wandb/run-20241021_143456-gpkvm59k/files/\n",
      "wandb/run-20241021_143456-gpkvm59k/files/config.yaml\n",
      "          1,608 100%    5.93kB/s    0:00:00 (xfr#6, to-chk=43/390)\n",
      "wandb/run-20241021_143456-gpkvm59k/files/output.log\n",
      "          5,281 100%   19.46kB/s    0:00:00 (xfr#7, to-chk=42/390)\n",
      "wandb/run-20241021_143456-gpkvm59k/files/wandb-summary.json\n",
      "            184 100%    0.68kB/s    0:00:00 (xfr#8, to-chk=40/390)\n",
      "wandb/run-20241021_143456-gpkvm59k/logs/debug-internal.log\n",
      "          1,705 100%    6.24kB/s    0:00:00 (xfr#9, to-chk=38/390)\n",
      "wandb/run-20241021_143456-gpkvm59k/logs/debug.log\n",
      "          4,083 100%   14.88kB/s    0:00:00 (xfr#10, to-chk=37/390)\n",
      "wandb/run-20241021_161025-iaqpyb1s/\n",
      "wandb/run-20241021_161025-iaqpyb1s/run-iaqpyb1s.wandb\n",
      "     10,538,183 100%   35.02MB/s    0:00:00 (xfr#11, to-chk=35/390)\n",
      "wandb/run-20241021_161025-iaqpyb1s/files/\n",
      "wandb/run-20241021_161025-iaqpyb1s/files/config.yaml\n",
      "          1,605 100%    5.44kB/s    0:00:00 (xfr#12, to-chk=31/390)\n",
      "wandb/run-20241021_161025-iaqpyb1s/files/output.log\n",
      "         28,365 100%   96.18kB/s    0:00:00 (xfr#13, to-chk=30/390)\n",
      "wandb/run-20241021_161025-iaqpyb1s/files/wandb-metadata.json\n",
      "          1,206 100%    4.09kB/s    0:00:00 (xfr#14, to-chk=29/390)\n",
      "wandb/run-20241021_161025-iaqpyb1s/files/wandb-summary.json\n",
      "            189 100%    0.64kB/s    0:00:00 (xfr#15, to-chk=28/390)\n",
      "wandb/run-20241021_161025-iaqpyb1s/logs/\n",
      "wandb/run-20241021_161025-iaqpyb1s/logs/debug-core.log -> /root/.cache/wandb/logs/core-debug-20241021_161024.log\n",
      "wandb/run-20241021_161025-iaqpyb1s/logs/debug-internal.log\n",
      "          5,555 100%   18.84kB/s    0:00:00 (xfr#16, to-chk=26/390)\n",
      "wandb/run-20241021_161025-iaqpyb1s/logs/debug.log\n",
      "          4,080 100%   13.83kB/s    0:00:00 (xfr#17, to-chk=25/390)\n",
      "wandb/run-20241021_161025-iaqpyb1s/tmp/\n",
      "wandb/run-20241021_161025-iaqpyb1s/tmp/code/\n",
      "wandb/run-20241021_161636-fv2vctoi/\n",
      "wandb/run-20241021_161636-fv2vctoi/run-fv2vctoi.wandb\n",
      "         55,301 100%  187.52kB/s    0:00:00 (xfr#18, to-chk=23/390)\n",
      "wandb/run-20241021_161636-fv2vctoi/files/\n",
      "wandb/run-20241021_161636-fv2vctoi/files/config.yaml\n",
      "          1,612 100%    5.47kB/s    0:00:00 (xfr#19, to-chk=19/390)\n",
      "wandb/run-20241021_161636-fv2vctoi/files/output.log\n",
      "          4,323 100%   14.66kB/s    0:00:00 (xfr#20, to-chk=18/390)\n",
      "wandb/run-20241021_161636-fv2vctoi/files/wandb-metadata.json\n",
      "          1,205 100%    4.09kB/s    0:00:00 (xfr#21, to-chk=17/390)\n",
      "wandb/run-20241021_161636-fv2vctoi/files/wandb-summary.json\n",
      "            175 100%    0.59kB/s    0:00:00 (xfr#22, to-chk=16/390)\n",
      "wandb/run-20241021_161636-fv2vctoi/logs/\n",
      "wandb/run-20241021_161636-fv2vctoi/logs/debug-core.log -> /root/.cache/wandb/logs/core-debug-20241021_161635.log\n",
      "wandb/run-20241021_161636-fv2vctoi/logs/debug-internal.log\n",
      "          1,706 100%    5.76kB/s    0:00:00 (xfr#23, to-chk=14/390)\n",
      "wandb/run-20241021_161636-fv2vctoi/logs/debug.log\n",
      "          4,087 100%   13.81kB/s    0:00:00 (xfr#24, to-chk=13/390)\n",
      "wandb/run-20241021_161636-fv2vctoi/tmp/\n",
      "wandb/run-20241021_161636-fv2vctoi/tmp/code/\n",
      "wandb/run-20241021_162033-90jzejcq/\n",
      "wandb/run-20241021_162033-90jzejcq/run-90jzejcq.wandb\n",
      "         36,380 100%  122.93kB/s    0:00:00 (xfr#25, to-chk=11/390)\n",
      "wandb/run-20241021_162033-90jzejcq/files/\n",
      "wandb/run-20241021_162033-90jzejcq/files/config.yaml\n",
      "          1,612 100%    5.45kB/s    0:00:00 (xfr#26, to-chk=7/390)\n",
      "wandb/run-20241021_162033-90jzejcq/files/output.log\n",
      "          5,182 100%   17.51kB/s    0:00:00 (xfr#27, to-chk=6/390)\n",
      "wandb/run-20241021_162033-90jzejcq/files/wandb-metadata.json\n",
      "          1,205 100%    4.07kB/s    0:00:00 (xfr#28, to-chk=5/390)\n",
      "wandb/run-20241021_162033-90jzejcq/files/wandb-summary.json\n",
      "            170 100%    0.57kB/s    0:00:00 (xfr#29, to-chk=4/390)\n",
      "wandb/run-20241021_162033-90jzejcq/logs/\n",
      "wandb/run-20241021_162033-90jzejcq/logs/debug-core.log -> /root/.cache/wandb/logs/core-debug-20241021_162032.log\n",
      "wandb/run-20241021_162033-90jzejcq/logs/debug-internal.log\n",
      "          1,705 100%    5.76kB/s    0:00:00 (xfr#30, to-chk=2/390)\n",
      "wandb/run-20241021_162033-90jzejcq/logs/debug.log\n",
      "          4,087 100%   13.81kB/s    0:00:00 (xfr#31, to-chk=1/390)\n",
      "wandb/run-20241021_162033-90jzejcq/tmp/\n",
      "wandb/run-20241021_162033-90jzejcq/tmp/code/\n",
      "\n",
      "sent 329,213 bytes  received 293,281,767 bytes  7,074,963.37 bytes/sec\n",
      "total size is 11,124,454,442  speedup is 37.89\n"
     ]
    }
   ],
   "source": [
    "%%bash\n",
    "\n",
    "rsync -avzu --progress\\\n",
    "    --exclude 'BG_CIFs/' \\\n",
    "    --exclude 'Miniconda3.sh' \\\n",
    "    --exclude 'small_model_untouched/' \\\n",
    "    --exclude 'large_model_untouched/' \\\n",
    "    --exclude 'BG_cifs_process_steps/' \\\n",
    "    --exclude 'cuda-repo-wsl-ubuntu-11-8-local_11.8.0-1_amd64.deb' \\\n",
    "    --exclude 'crystallm_container.sif' \\\n",
    "    --exclude 'wandb/' \\\n",
    "    -e \"ssh -i ~/.ssh/exported-keyfile-from-putty-np\" \\\n",
    "    cyprien@nico.chem.ucl.ac.uk:/home/cyprien/CrystaLLM/ /home/uccacbo/CrystaLLM/"
   ]
  },
  {
   "cell_type": "code",
   "execution_count": 4,
   "metadata": {},
   "outputs": [
    {
     "name": "stdout",
     "output_type": "stream",
     "text": [
      "receiving incremental file list\n",
      "finetuned_models/\n",
      "\n",
      "sent 31 bytes  received 249 bytes  186.67 bytes/sec\n",
      "total size is 1,129,170,674  speedup is 4,032,752.41\n"
     ]
    }
   ],
   "source": [
    "%%bash\n",
    "\n",
    "rsync -avzu --progress \\\n",
    "    -e \"ssh -i ~/.ssh/exported-keyfile-from-putty-np\" \\\n",
    "    cyprien@nico.chem.ucl.ac.uk:/home/cyprien/CrystaLLM/finetuned_models /home/uccacbo/CrystaLLM/\n"
   ]
  },
  {
   "cell_type": "code",
   "execution_count": null,
   "metadata": {},
   "outputs": [],
   "source": []
  }
 ],
 "metadata": {
  "kernelspec": {
   "display_name": "crystallm_venv",
   "language": "python",
   "name": "python3"
  },
  "language_info": {
   "codemirror_mode": {
    "name": "ipython",
    "version": 3
   },
   "file_extension": ".py",
   "mimetype": "text/x-python",
   "name": "python",
   "nbconvert_exporter": "python",
   "pygments_lexer": "ipython3",
   "version": "3.10.15"
  }
 },
 "nbformat": 4,
 "nbformat_minor": 2
}
